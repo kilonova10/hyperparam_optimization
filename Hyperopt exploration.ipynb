{
 "cells": [
  {
   "cell_type": "markdown",
   "metadata": {},
   "source": [
    "## Preparing optimization\n",
    "\n",
    "For any model optimization problem with parameters we need:\n",
    "\n",
    "- An objective function that we want to minimize or maximize\n",
    "- Domain space for relevant parameters\n",
    "- A hyperparameter evaluating function \n",
    "- Trials (recording scores and parameters for each iteration)\n",
    "\n",
    "Bayesian optimization makes informed decisions about the next set of parameters to choose based on a constructed\n",
    "probability model of the surrogate function itself"
   ]
  },
  {
   "cell_type": "code",
   "execution_count": 1,
   "metadata": {},
   "outputs": [],
   "source": [
    "import pandas as pd\n",
    "import numpy as np\n",
    "\n",
    "import matplotlib.pyplot as plt"
   ]
  },
  {
   "cell_type": "code",
   "execution_count": 3,
   "metadata": {},
   "outputs": [],
   "source": [
    "## Model one polynomial function with a local minimum over a given range\n",
    "## Objective: minimize the output of this function using optimization methods\n",
    "\n",
    "def objective(x):\n",
    "    ''' \n",
    "    Make a bizarre polynomial to work with\n",
    "    '''\n",
    "    \n",
    "    # translates to x^6 + 15x^5 - 2x^4 + 43x^3 + 52x^2 + x + 71\n",
    "    f = np.poly1d([1,15, -2,43, 52, 1, 71])\n",
    "    \n",
    "    return f(x)"
   ]
  },
  {
   "cell_type": "code",
   "execution_count": null,
   "metadata": {},
   "outputs": [],
   "source": []
  }
 ],
 "metadata": {
  "kernelspec": {
   "display_name": "Python 3",
   "language": "python",
   "name": "python3"
  },
  "language_info": {
   "codemirror_mode": {
    "name": "ipython",
    "version": 3
   },
   "file_extension": ".py",
   "mimetype": "text/x-python",
   "name": "python",
   "nbconvert_exporter": "python",
   "pygments_lexer": "ipython3",
   "version": "3.6.5"
  }
 },
 "nbformat": 4,
 "nbformat_minor": 2
}
